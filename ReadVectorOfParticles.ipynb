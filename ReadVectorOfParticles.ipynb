!pip install uproot

import uproot
import ROOT

class ParticleInfo:
    def __init__(self, momentum, mass, energy, refractiveIndex, ckov, mapObj):
        self.momentum = momentum
        self.mass = mass
        self.energy = energy
        self.refractiveIndex = refractiveIndex
        self.ckov = ckov
        self.mapObj = mapObj

def gatherParticleInfoFromROOT():
    # Open the file
    file = uproot.open("outputFile.root")

    # Get the TTree
    tree = file["tree"]

    # Get the branches
    momentum = tree["momentum"]
    mass = tree["mass"]
    energy = tree["energy"]
    refractiveIndex = tree["refractiveIndex"]
    ckov = tree["ckov"]

    # Get the values for all entries using vectorization
    momentum_vals = momentum.array()
    mass_vals = mass.array()
    energy_vals = energy.array()
    refractiveIndex_vals = refractiveIndex.array()
    ckov_vals = ckov.array()

    # Create a list of ParticleInfo objects
    particles = []
    for i in range(len(momentum_vals)):
        particle = ParticleInfo(
            momentum_vals[i],
            mass_vals[i],
            energy_vals[i],
            refractiveIndex_vals[i],
            ckov_vals[i],
            None
        )

        # Retrieve the TH2F map for the current entry
        map_name = f"hist_{i}"
        map_obj = file.get(map_name)
        if isinstance(map_obj, ROOT.TH2F):
            particle.mapObj = map_obj

        particles.append(particle)

    return particles

# Gather a vector of ParticleInfo objects
particles = gatherParticleInfoFromROOT()
for particle in particles:
    print(f"Momentum: {particle.momentum}, Mass: {particle.mass}, Energy: {particle.energy}, RefractiveIndex: {particle.refractiveIndex}, Ckov: {particle.ckov}")
    if particle.mapObj is not None:
        print(f"Map Entries: {particle.mapObj.GetEntries()}")
    else:
        print("Map not found")

